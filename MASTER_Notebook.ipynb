{
 "cells": [
  {
   "cell_type": "code",
   "execution_count": 1,
   "id": "259828c7-4474-4859-9569-55499c3908d0",
   "metadata": {},
   "outputs": [],
   "source": [
    "import requests\n",
    "import json\n",
    "import pandas as pd\n",
    "from pathlib import Path\n",
    "import matplotlib.pyplot as plt\n",
    "import seaborn as sns\n",
    "from scipy.stats import linregress\n",
    "import scipy.stats as stats\n",
    "from scipy.stats import ttest_ind, f_oneway\n",
    "import statsmodels.api as sm\n",
    "from statsmodels.formula.api import ols"
   ]
  },
  {
   "cell_type": "code",
   "execution_count": 2,
   "id": "141eda98-6d81-4c60-b4ac-c9d56e27ab57",
   "metadata": {},
   "outputs": [
    {
     "ename": "FileNotFoundError",
     "evalue": "[Errno 2] No such file or directory: 'Data\\\\combined_employment_data.csv'",
     "output_type": "error",
     "traceback": [
      "\u001b[1;31m---------------------------------------------------------------------------\u001b[0m",
      "\u001b[1;31mFileNotFoundError\u001b[0m                         Traceback (most recent call last)",
      "Cell \u001b[1;32mIn[2], line 10\u001b[0m\n\u001b[0;32m      8\u001b[0m \u001b[38;5;66;03m# read files and store into Pandas DataFrames\u001b[39;00m\n\u001b[0;32m      9\u001b[0m opioid_csv \u001b[38;5;241m=\u001b[39m pd\u001b[38;5;241m.\u001b[39mread_csv(opioid_deaths_to_load, index_col \u001b[38;5;241m=\u001b[39m \u001b[38;5;241m0\u001b[39m)\n\u001b[1;32m---> 10\u001b[0m employment_csv \u001b[38;5;241m=\u001b[39m pd\u001b[38;5;241m.\u001b[39mread_csv(employment_data_to_load, index_col \u001b[38;5;241m=\u001b[39m \u001b[38;5;241m0\u001b[39m)\n\u001b[0;32m     11\u001b[0m education_csv \u001b[38;5;241m=\u001b[39m pd\u001b[38;5;241m.\u001b[39mread_csv(education_data_to_load, index_col \u001b[38;5;241m=\u001b[39m \u001b[38;5;241m0\u001b[39m)\n\u001b[0;32m     12\u001b[0m income_csv \u001b[38;5;241m=\u001b[39m pd\u001b[38;5;241m.\u001b[39mread_csv(income_data_to_load, index_col \u001b[38;5;241m=\u001b[39m \u001b[38;5;241m0\u001b[39m)\n",
      "File \u001b[1;32m~\\AppData\\Local\\anaconda3\\envs\\dev\\Lib\\site-packages\\pandas\\io\\parsers\\readers.py:1026\u001b[0m, in \u001b[0;36mread_csv\u001b[1;34m(filepath_or_buffer, sep, delimiter, header, names, index_col, usecols, dtype, engine, converters, true_values, false_values, skipinitialspace, skiprows, skipfooter, nrows, na_values, keep_default_na, na_filter, verbose, skip_blank_lines, parse_dates, infer_datetime_format, keep_date_col, date_parser, date_format, dayfirst, cache_dates, iterator, chunksize, compression, thousands, decimal, lineterminator, quotechar, quoting, doublequote, escapechar, comment, encoding, encoding_errors, dialect, on_bad_lines, delim_whitespace, low_memory, memory_map, float_precision, storage_options, dtype_backend)\u001b[0m\n\u001b[0;32m   1013\u001b[0m kwds_defaults \u001b[38;5;241m=\u001b[39m _refine_defaults_read(\n\u001b[0;32m   1014\u001b[0m     dialect,\n\u001b[0;32m   1015\u001b[0m     delimiter,\n\u001b[1;32m   (...)\u001b[0m\n\u001b[0;32m   1022\u001b[0m     dtype_backend\u001b[38;5;241m=\u001b[39mdtype_backend,\n\u001b[0;32m   1023\u001b[0m )\n\u001b[0;32m   1024\u001b[0m kwds\u001b[38;5;241m.\u001b[39mupdate(kwds_defaults)\n\u001b[1;32m-> 1026\u001b[0m \u001b[38;5;28;01mreturn\u001b[39;00m _read(filepath_or_buffer, kwds)\n",
      "File \u001b[1;32m~\\AppData\\Local\\anaconda3\\envs\\dev\\Lib\\site-packages\\pandas\\io\\parsers\\readers.py:620\u001b[0m, in \u001b[0;36m_read\u001b[1;34m(filepath_or_buffer, kwds)\u001b[0m\n\u001b[0;32m    617\u001b[0m _validate_names(kwds\u001b[38;5;241m.\u001b[39mget(\u001b[38;5;124m\"\u001b[39m\u001b[38;5;124mnames\u001b[39m\u001b[38;5;124m\"\u001b[39m, \u001b[38;5;28;01mNone\u001b[39;00m))\n\u001b[0;32m    619\u001b[0m \u001b[38;5;66;03m# Create the parser.\u001b[39;00m\n\u001b[1;32m--> 620\u001b[0m parser \u001b[38;5;241m=\u001b[39m TextFileReader(filepath_or_buffer, \u001b[38;5;241m*\u001b[39m\u001b[38;5;241m*\u001b[39mkwds)\n\u001b[0;32m    622\u001b[0m \u001b[38;5;28;01mif\u001b[39;00m chunksize \u001b[38;5;129;01mor\u001b[39;00m iterator:\n\u001b[0;32m    623\u001b[0m     \u001b[38;5;28;01mreturn\u001b[39;00m parser\n",
      "File \u001b[1;32m~\\AppData\\Local\\anaconda3\\envs\\dev\\Lib\\site-packages\\pandas\\io\\parsers\\readers.py:1620\u001b[0m, in \u001b[0;36mTextFileReader.__init__\u001b[1;34m(self, f, engine, **kwds)\u001b[0m\n\u001b[0;32m   1617\u001b[0m     \u001b[38;5;28mself\u001b[39m\u001b[38;5;241m.\u001b[39moptions[\u001b[38;5;124m\"\u001b[39m\u001b[38;5;124mhas_index_names\u001b[39m\u001b[38;5;124m\"\u001b[39m] \u001b[38;5;241m=\u001b[39m kwds[\u001b[38;5;124m\"\u001b[39m\u001b[38;5;124mhas_index_names\u001b[39m\u001b[38;5;124m\"\u001b[39m]\n\u001b[0;32m   1619\u001b[0m \u001b[38;5;28mself\u001b[39m\u001b[38;5;241m.\u001b[39mhandles: IOHandles \u001b[38;5;241m|\u001b[39m \u001b[38;5;28;01mNone\u001b[39;00m \u001b[38;5;241m=\u001b[39m \u001b[38;5;28;01mNone\u001b[39;00m\n\u001b[1;32m-> 1620\u001b[0m \u001b[38;5;28mself\u001b[39m\u001b[38;5;241m.\u001b[39m_engine \u001b[38;5;241m=\u001b[39m \u001b[38;5;28mself\u001b[39m\u001b[38;5;241m.\u001b[39m_make_engine(f, \u001b[38;5;28mself\u001b[39m\u001b[38;5;241m.\u001b[39mengine)\n",
      "File \u001b[1;32m~\\AppData\\Local\\anaconda3\\envs\\dev\\Lib\\site-packages\\pandas\\io\\parsers\\readers.py:1880\u001b[0m, in \u001b[0;36mTextFileReader._make_engine\u001b[1;34m(self, f, engine)\u001b[0m\n\u001b[0;32m   1878\u001b[0m     \u001b[38;5;28;01mif\u001b[39;00m \u001b[38;5;124m\"\u001b[39m\u001b[38;5;124mb\u001b[39m\u001b[38;5;124m\"\u001b[39m \u001b[38;5;129;01mnot\u001b[39;00m \u001b[38;5;129;01min\u001b[39;00m mode:\n\u001b[0;32m   1879\u001b[0m         mode \u001b[38;5;241m+\u001b[39m\u001b[38;5;241m=\u001b[39m \u001b[38;5;124m\"\u001b[39m\u001b[38;5;124mb\u001b[39m\u001b[38;5;124m\"\u001b[39m\n\u001b[1;32m-> 1880\u001b[0m \u001b[38;5;28mself\u001b[39m\u001b[38;5;241m.\u001b[39mhandles \u001b[38;5;241m=\u001b[39m get_handle(\n\u001b[0;32m   1881\u001b[0m     f,\n\u001b[0;32m   1882\u001b[0m     mode,\n\u001b[0;32m   1883\u001b[0m     encoding\u001b[38;5;241m=\u001b[39m\u001b[38;5;28mself\u001b[39m\u001b[38;5;241m.\u001b[39moptions\u001b[38;5;241m.\u001b[39mget(\u001b[38;5;124m\"\u001b[39m\u001b[38;5;124mencoding\u001b[39m\u001b[38;5;124m\"\u001b[39m, \u001b[38;5;28;01mNone\u001b[39;00m),\n\u001b[0;32m   1884\u001b[0m     compression\u001b[38;5;241m=\u001b[39m\u001b[38;5;28mself\u001b[39m\u001b[38;5;241m.\u001b[39moptions\u001b[38;5;241m.\u001b[39mget(\u001b[38;5;124m\"\u001b[39m\u001b[38;5;124mcompression\u001b[39m\u001b[38;5;124m\"\u001b[39m, \u001b[38;5;28;01mNone\u001b[39;00m),\n\u001b[0;32m   1885\u001b[0m     memory_map\u001b[38;5;241m=\u001b[39m\u001b[38;5;28mself\u001b[39m\u001b[38;5;241m.\u001b[39moptions\u001b[38;5;241m.\u001b[39mget(\u001b[38;5;124m\"\u001b[39m\u001b[38;5;124mmemory_map\u001b[39m\u001b[38;5;124m\"\u001b[39m, \u001b[38;5;28;01mFalse\u001b[39;00m),\n\u001b[0;32m   1886\u001b[0m     is_text\u001b[38;5;241m=\u001b[39mis_text,\n\u001b[0;32m   1887\u001b[0m     errors\u001b[38;5;241m=\u001b[39m\u001b[38;5;28mself\u001b[39m\u001b[38;5;241m.\u001b[39moptions\u001b[38;5;241m.\u001b[39mget(\u001b[38;5;124m\"\u001b[39m\u001b[38;5;124mencoding_errors\u001b[39m\u001b[38;5;124m\"\u001b[39m, \u001b[38;5;124m\"\u001b[39m\u001b[38;5;124mstrict\u001b[39m\u001b[38;5;124m\"\u001b[39m),\n\u001b[0;32m   1888\u001b[0m     storage_options\u001b[38;5;241m=\u001b[39m\u001b[38;5;28mself\u001b[39m\u001b[38;5;241m.\u001b[39moptions\u001b[38;5;241m.\u001b[39mget(\u001b[38;5;124m\"\u001b[39m\u001b[38;5;124mstorage_options\u001b[39m\u001b[38;5;124m\"\u001b[39m, \u001b[38;5;28;01mNone\u001b[39;00m),\n\u001b[0;32m   1889\u001b[0m )\n\u001b[0;32m   1890\u001b[0m \u001b[38;5;28;01massert\u001b[39;00m \u001b[38;5;28mself\u001b[39m\u001b[38;5;241m.\u001b[39mhandles \u001b[38;5;129;01mis\u001b[39;00m \u001b[38;5;129;01mnot\u001b[39;00m \u001b[38;5;28;01mNone\u001b[39;00m\n\u001b[0;32m   1891\u001b[0m f \u001b[38;5;241m=\u001b[39m \u001b[38;5;28mself\u001b[39m\u001b[38;5;241m.\u001b[39mhandles\u001b[38;5;241m.\u001b[39mhandle\n",
      "File \u001b[1;32m~\\AppData\\Local\\anaconda3\\envs\\dev\\Lib\\site-packages\\pandas\\io\\common.py:873\u001b[0m, in \u001b[0;36mget_handle\u001b[1;34m(path_or_buf, mode, encoding, compression, memory_map, is_text, errors, storage_options)\u001b[0m\n\u001b[0;32m    868\u001b[0m \u001b[38;5;28;01melif\u001b[39;00m \u001b[38;5;28misinstance\u001b[39m(handle, \u001b[38;5;28mstr\u001b[39m):\n\u001b[0;32m    869\u001b[0m     \u001b[38;5;66;03m# Check whether the filename is to be opened in binary mode.\u001b[39;00m\n\u001b[0;32m    870\u001b[0m     \u001b[38;5;66;03m# Binary mode does not support 'encoding' and 'newline'.\u001b[39;00m\n\u001b[0;32m    871\u001b[0m     \u001b[38;5;28;01mif\u001b[39;00m ioargs\u001b[38;5;241m.\u001b[39mencoding \u001b[38;5;129;01mand\u001b[39;00m \u001b[38;5;124m\"\u001b[39m\u001b[38;5;124mb\u001b[39m\u001b[38;5;124m\"\u001b[39m \u001b[38;5;129;01mnot\u001b[39;00m \u001b[38;5;129;01min\u001b[39;00m ioargs\u001b[38;5;241m.\u001b[39mmode:\n\u001b[0;32m    872\u001b[0m         \u001b[38;5;66;03m# Encoding\u001b[39;00m\n\u001b[1;32m--> 873\u001b[0m         handle \u001b[38;5;241m=\u001b[39m \u001b[38;5;28mopen\u001b[39m(\n\u001b[0;32m    874\u001b[0m             handle,\n\u001b[0;32m    875\u001b[0m             ioargs\u001b[38;5;241m.\u001b[39mmode,\n\u001b[0;32m    876\u001b[0m             encoding\u001b[38;5;241m=\u001b[39mioargs\u001b[38;5;241m.\u001b[39mencoding,\n\u001b[0;32m    877\u001b[0m             errors\u001b[38;5;241m=\u001b[39merrors,\n\u001b[0;32m    878\u001b[0m             newline\u001b[38;5;241m=\u001b[39m\u001b[38;5;124m\"\u001b[39m\u001b[38;5;124m\"\u001b[39m,\n\u001b[0;32m    879\u001b[0m         )\n\u001b[0;32m    880\u001b[0m     \u001b[38;5;28;01melse\u001b[39;00m:\n\u001b[0;32m    881\u001b[0m         \u001b[38;5;66;03m# Binary mode\u001b[39;00m\n\u001b[0;32m    882\u001b[0m         handle \u001b[38;5;241m=\u001b[39m \u001b[38;5;28mopen\u001b[39m(handle, ioargs\u001b[38;5;241m.\u001b[39mmode)\n",
      "\u001b[1;31mFileNotFoundError\u001b[0m: [Errno 2] No such file or directory: 'Data\\\\combined_employment_data.csv'"
     ]
    }
   ],
   "source": [
    "# CSV files to load\n",
    "opioid_deaths_to_load = Path('Data/opioid_death_counts.csv')\n",
    "employment_data_to_load = Path('Data/combined_employment_data.csv')\n",
    "education_data_to_load = Path('Data/combined_education_data.csv')\n",
    "income_data_to_load = Path('Data/combined_income_data.csv')\n",
    "family_size_data_to_load = Path('Data/combined_family_size_data.csv')\n",
    "\n",
    "# read files and store into Pandas DataFrames\n",
    "opioid_csv = pd.read_csv(opioid_deaths_to_load, index_col = 0)\n",
    "employment_csv = pd.read_csv(employment_data_to_load, index_col = 0)\n",
    "education_csv = pd.read_csv(education_data_to_load, index_col = 0)\n",
    "income_csv = pd.read_csv(income_data_to_load, index_col = 0)\n",
    "family_size_csv = pd.read_csv(family_size_data_to_load, index_col = 0)\n",
    "\n",
    "# merge csv to master file\n",
    "demographic_vs_opioid_df = pd.merge(employment_csv, opioid_csv, on=['State', 'Year'], how='left')\n",
    "demographic_vs_opioid_df = pd.merge(demographic_vs_opioid_df, education_csv,  on=['State', 'Year'], how='left')\n",
    "demographic_vs_opioid_df = pd.merge(demographic_vs_opioid_df, income_csv, on=['State', 'Year'], how='left')\n",
    "demographic_vs_opioid_df = pd.merge(demographic_vs_opioid_df, family_size_csv, on=['State', 'Year'], how='left')\n",
    "\n",
    "demographic_vs_opioid_df"
   ]
  },
  {
   "cell_type": "code",
   "execution_count": null,
   "id": "cfaa33a2-2bf9-47c8-8d55-91f0bb92f2c1",
   "metadata": {},
   "outputs": [],
   "source": [
    "# set up masterfile\n",
    "masterfile_data_summary = demographic_vs_opioid_df [[\n",
    "    'Year',\n",
    "    'State',\n",
    "    'Total Opioid Deaths',\n",
    "    'Median Household Income (in Inflation-Adjusted Dollars)',\n",
    "    'Total in Labor Force',\n",
    "    'Total Unemployed in Civilian Labor Force',\n",
    "    'Total Surveyed',\n",
    "    'No High School Degree',\n",
    "    'High School Diploma or GED',\n",
    "    'College Degree or greater',\n",
    "    'Estimated Total Household Type(Including Living Alone)',\n",
    "    'Estimated Total Family Households(Married Couples)',\n",
    "    'Estimated Total Family Households(Male Householder No Spouse)',\n",
    "    'Estimated Total Family Households(Female Householder No Spouse)',\n",
    "    'Estimated Total Family Household(Nonfamily Households)',\n",
    "    'Estimated Total Family Household(Householder Living Alone)'\n",
    "]]\n",
    "\n",
    "# demographic columns grouped with headers\n",
    "columns = [\n",
    "    ('Year/State','Year'),\n",
    "    ('Year/State','State'),\n",
    "    ('Opioid Data', 'Total Opioid Deaths'),\n",
    "    ('Income Data', 'Median Household Income (in Inflation–Adjusted Dollars)'),\n",
    "    ('Employment Data', 'Total in Labor Force'),\n",
    "    ('Employment Data', 'Total Unemployed in Civilian Labor Force'),\n",
    "    ('Education Data', 'Total Surveyed'),\n",
    "    ('Education Data', 'No High School Degree'),\n",
    "    ('Education Data', 'High School Diploma or GED'),\n",
    "    ('Education Data', 'College Degree or greater'),\n",
    "    ('Family Size Data', 'Estimated Total Household Type(Including Living Alone)'),\n",
    "    ('Family Size Data', 'Estimated Total Family Households(Married Couples)'),\n",
    "    ('Family Size Data', 'Estimated Total Family Households(Male Householder No Spouse)'),\n",
    "    ('Family Size Data', 'Estimated Total Family Households(Female Householder No Spouse)'),\n",
    "    ('Family Size Data', 'Estimated Total Family Household(Nonfamily Households)'),\n",
    "    ('Family Size Data', 'Estimated Total Family Household(Householder Living Alone)')\n",
    "]\n",
    "# implement multi index column headers\n",
    "multi_index = pd.MultiIndex.from_tuples(columns)\n",
    "masterfile_data_summary.columns = multi_index\n",
    "\n",
    "# csv output\n",
    "masterfile_data_summary.to_csv('Data/masterfile_data.csv')\n",
    "\n",
    "masterfile_data_summary"
   ]
  },
  {
   "cell_type": "code",
   "execution_count": null,
   "id": "29db0215-5a0e-4960-9898-b41123e72984",
   "metadata": {},
   "outputs": [],
   "source": [
    "# convert year to string\n",
    "\n",
    "demographic_vs_opioid_df['Year'] = demographic_vs_opioid_df['Year'].astype(str)\n",
    "demographic_vs_opioid_df = demographic_vs_opioid_df.sort_values(by = 'Year', ascending = True)\n",
    "\n",
    "# national average\n",
    "national_average_per_year = demographic_vs_opioid_df.groupby('Year')['Total Opioid Deaths'].mean()\n",
    "\n",
    "top_5_states = demographic_vs_opioid_df.groupby('State')['Total Opioid Deaths'].sum().nlargest(5).index\n",
    "\n",
    "top_5_data = demographic_vs_opioid_df[demographic_vs_opioid_df['State'].isin(top_5_states)]\n",
    "\n",
    "plt.figure(figsize=(12,8))\n",
    "\n",
    "for state in top_5_states:\n",
    "    state_data = top_5_data[top_5_data['State'] == state]\n",
    "    plt.plot(state_data['Year'], state_data['Total Opioid Deaths'], marker = 'o', label = state)\n",
    "\n",
    "plt.plot(national_average_per_year.index, national_average_per_year.values, color = 'blue', linestyle = '--', linewidth = 2, marker = 'o', label = 'National Average')\n",
    "\n",
    "plt.xlabel('Year')\n",
    "plt.ylabel('Total Opioid Deaths')\n",
    "plt.title('Top 5 States with Highest Opioid Death Rates Over 5 Years')\n",
    "plt.legend()\n",
    "\n",
    "plt.show()"
   ]
  },
  {
   "cell_type": "code",
   "execution_count": null,
   "id": "6ee21112-32d4-4f09-8f2d-840b7be968b9",
   "metadata": {},
   "outputs": [],
   "source": [
    "import import_ipynb\n",
    "import Unemployment_Notebook"
   ]
  },
  {
   "cell_type": "code",
   "execution_count": null,
   "id": "5a152296-5f21-4aba-8d85-32978b6154a5",
   "metadata": {},
   "outputs": [],
   "source": [
    "import import_ipynb\n",
    "import Education_Notebook"
   ]
  },
  {
   "cell_type": "code",
   "execution_count": null,
   "id": "00a10ceb-118d-429b-a0b8-4928a45ab588",
   "metadata": {},
   "outputs": [],
   "source": [
    "import import_ipynb\n",
    "import Family_Size_Notebook"
   ]
  },
  {
   "cell_type": "code",
   "execution_count": null,
   "id": "a51fef53-1ce8-4547-ae52-266e3eb78b46",
   "metadata": {},
   "outputs": [],
   "source": [
    "import import_ipynb\n",
    "import Income_Notebook"
   ]
  }
 ],
 "metadata": {
  "kernelspec": {
   "display_name": "Python 3 (ipykernel)",
   "language": "python",
   "name": "python3"
  },
  "language_info": {
   "codemirror_mode": {
    "name": "ipython",
    "version": 3
   },
   "file_extension": ".py",
   "mimetype": "text/x-python",
   "name": "python",
   "nbconvert_exporter": "python",
   "pygments_lexer": "ipython3",
   "version": "3.12.4"
  }
 },
 "nbformat": 4,
 "nbformat_minor": 5
}

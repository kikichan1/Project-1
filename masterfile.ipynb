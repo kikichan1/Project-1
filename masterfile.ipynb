{
 "cells": [
  {
   "cell_type": "code",
   "execution_count": 1,
   "metadata": {},
   "outputs": [
    {
     "name": "stdout",
     "output_type": "stream",
     "text": [
      "Collecting census\n",
      "  Using cached census-0.8.22-py3-none-any.whl.metadata (8.1 kB)\n",
      "Requirement already satisfied: requests>=1.1.0 in /opt/anaconda3/lib/python3.12/site-packages (from census) (2.32.2)\n",
      "Requirement already satisfied: charset-normalizer<4,>=2 in /opt/anaconda3/lib/python3.12/site-packages (from requests>=1.1.0->census) (2.0.4)\n",
      "Requirement already satisfied: idna<4,>=2.5 in /opt/anaconda3/lib/python3.12/site-packages (from requests>=1.1.0->census) (3.7)\n",
      "Requirement already satisfied: urllib3<3,>=1.21.1 in /opt/anaconda3/lib/python3.12/site-packages (from requests>=1.1.0->census) (2.2.2)\n",
      "Requirement already satisfied: certifi>=2017.4.17 in /opt/anaconda3/lib/python3.12/site-packages (from requests>=1.1.0->census) (2024.6.2)\n",
      "Using cached census-0.8.22-py3-none-any.whl (11 kB)\n",
      "Installing collected packages: census\n",
      "Successfully installed census-0.8.22\n",
      "Note: you may need to restart the kernel to use updated packages.\n"
     ]
    }
   ],
   "source": [
    "pip install census"
   ]
  },
  {
   "cell_type": "markdown",
   "metadata": {},
   "source": [
    "# Is there a correlation between opioid deaths and demographics?"
   ]
  },
  {
   "cell_type": "markdown",
   "metadata": {},
   "source": [
    "Part 1: Opioid-related deaths"
   ]
  },
  {
   "cell_type": "code",
   "execution_count": 5,
   "metadata": {},
   "outputs": [
    {
     "name": "stderr",
     "output_type": "stream",
     "text": [
      "/var/folders/06/x1qqn_713xj3fw1_jjfy1f680000gp/T/ipykernel_75829/3615343281.py:9: DtypeWarning: Columns (6) have mixed types. Specify dtype option on import or set low_memory=False.\n",
      "  drug_deaths = pd.read_csv(drug_deaths_to_load)\n"
     ]
    },
    {
     "data": {
      "text/html": [
       "<div>\n",
       "<style scoped>\n",
       "    .dataframe tbody tr th:only-of-type {\n",
       "        vertical-align: middle;\n",
       "    }\n",
       "\n",
       "    .dataframe tbody tr th {\n",
       "        vertical-align: top;\n",
       "    }\n",
       "\n",
       "    .dataframe thead th {\n",
       "        text-align: right;\n",
       "    }\n",
       "</style>\n",
       "<table border=\"1\" class=\"dataframe\">\n",
       "  <thead>\n",
       "    <tr style=\"text-align: right;\">\n",
       "      <th></th>\n",
       "      <th>State</th>\n",
       "      <th>Year</th>\n",
       "      <th>Month</th>\n",
       "      <th>Period</th>\n",
       "      <th>Indicator</th>\n",
       "      <th>Data Value</th>\n",
       "      <th>Percent Complete</th>\n",
       "      <th>Percent Pending Investigation</th>\n",
       "      <th>State Name</th>\n",
       "      <th>Footnote</th>\n",
       "      <th>Footnote Symbol</th>\n",
       "      <th>Predicted Value</th>\n",
       "    </tr>\n",
       "  </thead>\n",
       "  <tbody>\n",
       "    <tr>\n",
       "      <th>0</th>\n",
       "      <td>AK</td>\n",
       "      <td>2015</td>\n",
       "      <td>April</td>\n",
       "      <td>12 month-ending</td>\n",
       "      <td>Natural &amp; semi-synthetic opioids (T40.2)</td>\n",
       "      <td>NaN</td>\n",
       "      <td>100</td>\n",
       "      <td>0.0</td>\n",
       "      <td>Alaska</td>\n",
       "      <td>Numbers may differ from published reports usin...</td>\n",
       "      <td>**</td>\n",
       "      <td>NaN</td>\n",
       "    </tr>\n",
       "    <tr>\n",
       "      <th>1</th>\n",
       "      <td>AK</td>\n",
       "      <td>2015</td>\n",
       "      <td>April</td>\n",
       "      <td>12 month-ending</td>\n",
       "      <td>Psychostimulants with abuse potential (T43.6)</td>\n",
       "      <td>NaN</td>\n",
       "      <td>100</td>\n",
       "      <td>0.0</td>\n",
       "      <td>Alaska</td>\n",
       "      <td>Numbers may differ from published reports usin...</td>\n",
       "      <td>**</td>\n",
       "      <td>NaN</td>\n",
       "    </tr>\n",
       "    <tr>\n",
       "      <th>2</th>\n",
       "      <td>AK</td>\n",
       "      <td>2015</td>\n",
       "      <td>April</td>\n",
       "      <td>12 month-ending</td>\n",
       "      <td>Number of Drug Overdose Deaths</td>\n",
       "      <td>126</td>\n",
       "      <td>100</td>\n",
       "      <td>0.0</td>\n",
       "      <td>Alaska</td>\n",
       "      <td>Numbers may differ from published reports usin...</td>\n",
       "      <td>**</td>\n",
       "      <td>126</td>\n",
       "    </tr>\n",
       "    <tr>\n",
       "      <th>3</th>\n",
       "      <td>AK</td>\n",
       "      <td>2015</td>\n",
       "      <td>April</td>\n",
       "      <td>12 month-ending</td>\n",
       "      <td>Cocaine (T40.5)</td>\n",
       "      <td>NaN</td>\n",
       "      <td>100</td>\n",
       "      <td>0.0</td>\n",
       "      <td>Alaska</td>\n",
       "      <td>Numbers may differ from published reports usin...</td>\n",
       "      <td>**</td>\n",
       "      <td>NaN</td>\n",
       "    </tr>\n",
       "    <tr>\n",
       "      <th>4</th>\n",
       "      <td>AK</td>\n",
       "      <td>2015</td>\n",
       "      <td>April</td>\n",
       "      <td>12 month-ending</td>\n",
       "      <td>Natural, semi-synthetic, &amp; synthetic opioids, ...</td>\n",
       "      <td>NaN</td>\n",
       "      <td>100</td>\n",
       "      <td>0.0</td>\n",
       "      <td>Alaska</td>\n",
       "      <td>Numbers may differ from published reports usin...</td>\n",
       "      <td>**</td>\n",
       "      <td>NaN</td>\n",
       "    </tr>\n",
       "  </tbody>\n",
       "</table>\n",
       "</div>"
      ],
      "text/plain": [
       "  State  Year  Month           Period  \\\n",
       "0    AK  2015  April  12 month-ending   \n",
       "1    AK  2015  April  12 month-ending   \n",
       "2    AK  2015  April  12 month-ending   \n",
       "3    AK  2015  April  12 month-ending   \n",
       "4    AK  2015  April  12 month-ending   \n",
       "\n",
       "                                           Indicator Data Value  \\\n",
       "0           Natural & semi-synthetic opioids (T40.2)        NaN   \n",
       "1      Psychostimulants with abuse potential (T43.6)        NaN   \n",
       "2                     Number of Drug Overdose Deaths        126   \n",
       "3                                    Cocaine (T40.5)        NaN   \n",
       "4  Natural, semi-synthetic, & synthetic opioids, ...        NaN   \n",
       "\n",
       "  Percent Complete  Percent Pending Investigation State Name  \\\n",
       "0              100                            0.0     Alaska   \n",
       "1              100                            0.0     Alaska   \n",
       "2              100                            0.0     Alaska   \n",
       "3              100                            0.0     Alaska   \n",
       "4              100                            0.0     Alaska   \n",
       "\n",
       "                                            Footnote Footnote Symbol  \\\n",
       "0  Numbers may differ from published reports usin...              **   \n",
       "1  Numbers may differ from published reports usin...              **   \n",
       "2  Numbers may differ from published reports usin...              **   \n",
       "3  Numbers may differ from published reports usin...              **   \n",
       "4  Numbers may differ from published reports usin...              **   \n",
       "\n",
       "  Predicted Value  \n",
       "0             NaN  \n",
       "1             NaN  \n",
       "2             126  \n",
       "3             NaN  \n",
       "4             NaN  "
      ]
     },
     "execution_count": 5,
     "metadata": {},
     "output_type": "execute_result"
    }
   ],
   "source": [
    "# Dependencies and Setup\n",
    "import pandas as pd\n",
    "from pathlib import Path\n",
    "\n",
    "# File to Load (Remember to Change These)\n",
    "drug_deaths_to_load = Path(\"Data/drug_death_counts.csv\")\n",
    "\n",
    "# Read School and Student Data File and store into Pandas DataFrames\n",
    "drug_deaths = pd.read_csv(drug_deaths_to_load)\n",
    "\n",
    "# Combine the data into a single dataset.\n",
    "drug_deaths.head()"
   ]
  },
  {
   "cell_type": "code",
   "execution_count": 7,
   "metadata": {},
   "outputs": [
    {
     "data": {
      "text/plain": [
       "State                             object\n",
       "Year                               int64\n",
       "Month                             object\n",
       "Period                            object\n",
       "Indicator                         object\n",
       "Data Value                        object\n",
       "Percent Complete                  object\n",
       "Percent Pending Investigation    float64\n",
       "State Name                        object\n",
       "Footnote                          object\n",
       "Footnote Symbol                   object\n",
       "Predicted Value                   object\n",
       "dtype: object"
      ]
     },
     "execution_count": 7,
     "metadata": {},
     "output_type": "execute_result"
    }
   ],
   "source": [
    "drug_deaths.dtypes"
   ]
  },
  {
   "cell_type": "code",
   "execution_count": null,
   "metadata": {},
   "outputs": [],
   "source": [
    "# Create a dataframe showing opioid-related deaths occurred in all states in 2020"
   ]
  },
  {
   "cell_type": "code",
   "execution_count": null,
   "metadata": {},
   "outputs": [],
   "source": [
    "# Create a map of data density per state using cmap"
   ]
  },
  {
   "cell_type": "code",
   "execution_count": null,
   "metadata": {},
   "outputs": [],
   "source": [
    "# Create a dataframe showing the five states with the highest rate of opioid-related death in the past ten years (2010-2020)"
   ]
  },
  {
   "cell_type": "code",
   "execution_count": null,
   "metadata": {},
   "outputs": [],
   "source": [
    "# Create a line graph of the above five states, showing also the national average, in the past five years"
   ]
  },
  {
   "cell_type": "markdown",
   "metadata": {},
   "source": [
    "Part 2: Correlation between opioid-related deaths and demographics"
   ]
  },
  {
   "cell_type": "code",
   "execution_count": null,
   "metadata": {},
   "outputs": [],
   "source": [
    "# Create a dataframe of opioid-related deaths and unemployment rate"
   ]
  },
  {
   "cell_type": "code",
   "execution_count": null,
   "metadata": {},
   "outputs": [],
   "source": [
    "# Create a scatter plot and run regression"
   ]
  },
  {
   "cell_type": "code",
   "execution_count": null,
   "metadata": {},
   "outputs": [],
   "source": [
    "# Create a dataframe of opioid-related deaths and education attainment"
   ]
  },
  {
   "cell_type": "code",
   "execution_count": null,
   "metadata": {},
   "outputs": [],
   "source": [
    "# Create a scatter plot and run regression"
   ]
  },
  {
   "cell_type": "code",
   "execution_count": null,
   "metadata": {},
   "outputs": [],
   "source": [
    "# Create a dataframe of opioid-related deaths and income level"
   ]
  },
  {
   "cell_type": "code",
   "execution_count": null,
   "metadata": {},
   "outputs": [],
   "source": [
    "# Create a scatter plot and run regression"
   ]
  },
  {
   "cell_type": "code",
   "execution_count": null,
   "metadata": {},
   "outputs": [],
   "source": [
    "# Create a dataframe of opioid-related deaths and family size"
   ]
  },
  {
   "cell_type": "code",
   "execution_count": null,
   "metadata": {},
   "outputs": [],
   "source": [
    "# Create a scatter plot and run regression"
   ]
  },
  {
   "cell_type": "code",
   "execution_count": 1,
   "metadata": {},
   "outputs": [],
   "source": [
    "# ------------------------------U.S. Census demo below for reference"
   ]
  },
  {
   "cell_type": "markdown",
   "metadata": {},
   "source": [
    "# U.S. Census Demo"
   ]
  },
  {
   "cell_type": "code",
   "execution_count": 7,
   "metadata": {
    "tags": []
   },
   "outputs": [],
   "source": [
    "# Dependencies\n",
    "import requests\n",
    "import pandas as pd\n",
    "from census import Census"
   ]
  },
  {
   "cell_type": "code",
   "execution_count": 8,
   "metadata": {},
   "outputs": [],
   "source": [
    "# Import U.S. Census API Key\n",
    "from config import api_key\n",
    "\n",
    "# Create an instance of the Census library\n",
    "c = Census(\n",
    "    api_key,\n",
    "    year = 2013\n",
    ")"
   ]
  },
  {
   "cell_type": "markdown",
   "metadata": {},
   "source": [
    "## Retrieve data from the U.S. Census using the Census library\n",
    "\n",
    "References:\n",
    "\n",
    "* Review the following page to review the Python library documentation: <https://github.com/CommerceDataService/census-wrapper>\n",
    "\n",
    "* Review the following page to learn more about the data labels: <https://gist.github.com/afhaque/60558290d6efd892351c4b64e5c01e9b>"
   ]
  },
  {
   "cell_type": "code",
   "execution_count": 9,
   "metadata": {},
   "outputs": [
    {
     "name": "stdout",
     "output_type": "stream",
     "text": [
      "Number of rows in the DataFrame: 33120\n"
     ]
    },
    {
     "data": {
      "text/html": [
       "<div>\n",
       "<style scoped>\n",
       "    .dataframe tbody tr th:only-of-type {\n",
       "        vertical-align: middle;\n",
       "    }\n",
       "\n",
       "    .dataframe tbody tr th {\n",
       "        vertical-align: top;\n",
       "    }\n",
       "\n",
       "    .dataframe thead th {\n",
       "        text-align: right;\n",
       "    }\n",
       "</style>\n",
       "<table border=\"1\" class=\"dataframe\">\n",
       "  <thead>\n",
       "    <tr style=\"text-align: right;\">\n",
       "      <th></th>\n",
       "      <th>Zipcode</th>\n",
       "      <th>Population</th>\n",
       "      <th>Median Age</th>\n",
       "      <th>Household Income</th>\n",
       "      <th>Per Capita Income</th>\n",
       "      <th>Poverty Count</th>\n",
       "      <th>Poverty Rate</th>\n",
       "    </tr>\n",
       "  </thead>\n",
       "  <tbody>\n",
       "    <tr>\n",
       "      <th>0</th>\n",
       "      <td>01832</td>\n",
       "      <td>22121.0</td>\n",
       "      <td>38.5</td>\n",
       "      <td>57833.0</td>\n",
       "      <td>29014.0</td>\n",
       "      <td>2412.0</td>\n",
       "      <td>10.903666</td>\n",
       "    </tr>\n",
       "    <tr>\n",
       "      <th>1</th>\n",
       "      <td>01833</td>\n",
       "      <td>8295.0</td>\n",
       "      <td>42.4</td>\n",
       "      <td>107775.0</td>\n",
       "      <td>43297.0</td>\n",
       "      <td>191.0</td>\n",
       "      <td>2.302592</td>\n",
       "    </tr>\n",
       "    <tr>\n",
       "      <th>2</th>\n",
       "      <td>01834</td>\n",
       "      <td>6675.0</td>\n",
       "      <td>46.1</td>\n",
       "      <td>97463.0</td>\n",
       "      <td>40222.0</td>\n",
       "      <td>146.0</td>\n",
       "      <td>2.187266</td>\n",
       "    </tr>\n",
       "    <tr>\n",
       "      <th>3</th>\n",
       "      <td>01835</td>\n",
       "      <td>13527.0</td>\n",
       "      <td>37.1</td>\n",
       "      <td>72228.0</td>\n",
       "      <td>31429.0</td>\n",
       "      <td>1153.0</td>\n",
       "      <td>8.523693</td>\n",
       "    </tr>\n",
       "    <tr>\n",
       "      <th>4</th>\n",
       "      <td>01840</td>\n",
       "      <td>4547.0</td>\n",
       "      <td>36.8</td>\n",
       "      <td>18261.0</td>\n",
       "      <td>14758.0</td>\n",
       "      <td>1798.0</td>\n",
       "      <td>39.542556</td>\n",
       "    </tr>\n",
       "  </tbody>\n",
       "</table>\n",
       "</div>"
      ],
      "text/plain": [
       "  Zipcode  Population  Median Age  Household Income  Per Capita Income  \\\n",
       "0   01832     22121.0        38.5           57833.0            29014.0   \n",
       "1   01833      8295.0        42.4          107775.0            43297.0   \n",
       "2   01834      6675.0        46.1           97463.0            40222.0   \n",
       "3   01835     13527.0        37.1           72228.0            31429.0   \n",
       "4   01840      4547.0        36.8           18261.0            14758.0   \n",
       "\n",
       "   Poverty Count  Poverty Rate  \n",
       "0         2412.0     10.903666  \n",
       "1          191.0      2.302592  \n",
       "2          146.0      2.187266  \n",
       "3         1153.0      8.523693  \n",
       "4         1798.0     39.542556  "
      ]
     },
     "execution_count": 9,
     "metadata": {},
     "output_type": "execute_result"
    }
   ],
   "source": [
    "# Run Census Search to retrieve data on all zip codes (2013 ACS5 Census)\n",
    "census_data = c.acs5.get(\n",
    "    (\n",
    "        \"NAME\",\n",
    "        \"B19013_001E\",\n",
    "        \"B01003_001E\",\n",
    "        \"B01002_001E\",\n",
    "        \"B19301_001E\",\n",
    "        \"B17001_002E\"\n",
    "    ),\n",
    "    {'for': 'zip code tabulation area:*'}\n",
    ")\n",
    "\n",
    "# Convert to DataFrame\n",
    "census_pd = pd.DataFrame(census_data)\n",
    "\n",
    "# Column renaming\n",
    "census_pd = census_pd.rename(\n",
    "    columns = {\n",
    "        \"B01003_001E\": \"Population\",\n",
    "        \"B01002_001E\": \"Median Age\",\n",
    "        \"B19013_001E\": \"Household Income\",\n",
    "        \"B19301_001E\": \"Per Capita Income\",\n",
    "        \"B17001_002E\": \"Poverty Count\",\n",
    "        \"NAME\": \"Name\",\n",
    "        \"zip code tabulation area\": \"Zipcode\"\n",
    "    }\n",
    ")\n",
    "\n",
    "# Add a Poverty Rate column (Poverty Count / Population)\n",
    "census_pd[\"Poverty Rate\"] = 100 * census_pd[\"Poverty Count\"].astype(int) / census_pd[\"Population\"].astype(int)\n",
    "\n",
    "# Configure the final DataFrame\n",
    "census_pd = census_pd[\n",
    "    [\n",
    "        \"Zipcode\",\n",
    "        \"Population\",\n",
    "        \"Median Age\",\n",
    "        \"Household Income\",\n",
    "        \"Per Capita Income\",\n",
    "        \"Poverty Count\",\n",
    "        \"Poverty Rate\"\n",
    "    ]\n",
    "]\n",
    "\n",
    "# Display DataFrame length and sample data\n",
    "print(f\"Number of rows in the DataFrame: {len(census_pd)}\")\n",
    "census_pd.head()"
   ]
  },
  {
   "cell_type": "code",
   "execution_count": 4,
   "metadata": {
    "tags": []
   },
   "outputs": [],
   "source": [
    "# Save the DataFrame as a CSV\n",
    "# Note: To avoid any issues later, use encoding=\"utf-8\"\n",
    "census_pd.to_csv(\"census_data.csv\", encoding=\"utf-8\", index=False)"
   ]
  }
 ],
 "metadata": {
  "anaconda-cloud": {},
  "kernelspec": {
   "display_name": "Python 3 (ipykernel)",
   "language": "python",
   "name": "python3"
  },
  "language_info": {
   "codemirror_mode": {
    "name": "ipython",
    "version": 3
   },
   "file_extension": ".py",
   "mimetype": "text/x-python",
   "name": "python",
   "nbconvert_exporter": "python",
   "pygments_lexer": "ipython3",
   "version": "3.12.4"
  },
  "latex_envs": {
   "LaTeX_envs_menu_present": true,
   "autoclose": false,
   "autocomplete": true,
   "bibliofile": "biblio.bib",
   "cite_by": "apalike",
   "current_citInitial": 1,
   "eqLabelWithNumbers": true,
   "eqNumInitial": 1,
   "hotkeys": {
    "equation": "Ctrl-E",
    "itemize": "Ctrl-I"
   },
   "labels_anchors": false,
   "latex_user_defs": false,
   "report_style_numbering": false,
   "user_envs_cfg": false
  }
 },
 "nbformat": 4,
 "nbformat_minor": 4
}
